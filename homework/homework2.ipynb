{
 "cells": [
  {
   "cell_type": "markdown",
   "id": "95953490-39f2-40a0-aeea-2f5459112edf",
   "metadata": {},
   "source": [
    "#### QUESTION 1: Running Ollama with Docker. What's the version?\n",
    "#### ANSWER: 0.1.48"
   ]
  },
  {
   "cell_type": "markdown",
   "id": "0f0bc5b4-0639-4171-8d2d-8aa55f1bd63c",
   "metadata": {},
   "source": [
    "#### QUESTION 2: Downloading an LLM. Manifest file\n",
    "#### ANSWER: \n",
    "```json\n",
    "{\n",
    "  \"schemaVersion\": 2,\n",
    "  \"mediaType\": \"application/vnd.docker.distribution.manifest.v2+json\",\n",
    "  \"config\": {\n",
    "    \"mediaType\": \"application/vnd.docker.container.image.v1+json\",\n",
    "    \"digest\": \"sha256:887433b89a901c156f7e6944442f3c9e57f3c55d6ed52042cbb7303aea994290\",\n",
    "    \"size\": 483\n",
    "  },\n",
    "  \"layers\": [\n",
    "    {\n",
    "      \"mediaType\": \"application/vnd.ollama.image.model\",\n",
    "      \"digest\": \"sha256:c1864a5eb19305c40519da12cc543519e48a0697ecd30e15d5ac228644957d12\",\n",
    "      \"size\": 1678447520\n",
    "    },\n",
    "    {\n",
    "      \"mediaType\": \"application/vnd.ollama.image.license\",\n",
    "      \"digest\": \"sha256:097a36493f718248845233af1d3fefe7a303f864fae13bc31a3a9704229378ca\",\n",
    "      \"size\": 8433\n",
    "    },\n",
    "    {\n",
    "      \"mediaType\": \"application/vnd.ollama.image.template\",\n",
    "      \"digest\": \"sha256:109037bec39c0becc8221222ae23557559bc594290945a2c4221ab4f303b8871\",\n",
    "      \"size\": 136\n",
    "    },\n",
    "    {\n",
    "      \"mediaType\": \"application/vnd.ollama.image.params\",\n",
    "      \"digest\": \"sha256:22a838ceb7fb22755a3b0ae9b4eadde629d19be1f651f73efb8c6b4e2cd0eea0\",\n",
    "      \"size\": 84\n",
    "    }\n",
    "  ]\n",
    "}\n"
   ]
  },
  {
   "cell_type": "markdown",
   "id": "14453364-ce17-4b29-b5f9-93e06311a6e2",
   "metadata": {},
   "source": [
    "#### Question 3. Running the LLM. Output from 10 * 10\n",
    "#### Answer:\n",
    "Sure, here is the answer to the question:\n",
    "\n",
    "The model is asking for the answer to the question \"10 * 10\". The answer is 100."
   ]
  },
  {
   "cell_type": "markdown",
   "id": "a890bbf5-4551-489a-83aa-6652cbcfdb5d",
   "metadata": {},
   "source": [
    "#### Question 4:  Downloading the weights. Size of the folder \n",
    "#### Answer: 1.6Gb"
   ]
  },
  {
   "cell_type": "markdown",
   "id": "7207ed13-d85d-475b-8adf-8122e60f2272",
   "metadata": {},
   "source": [
    "#### Question 5: Adding the weights. Dockerfile\n",
    "#### Answer 5:  ollama_files /root/.ollama"
   ]
  },
  {
   "cell_type": "markdown",
   "id": "b2e601f8-bffe-4301-83ae-f97ce55b1122",
   "metadata": {},
   "source": [
    "#### Question 6: Serving the LLM. Number of output tokens \n",
    "#### Answer 6:  1122"
   ]
  },
  {
   "cell_type": "code",
   "execution_count": 38,
   "id": "2b9d89fc-9203-4e7f-b94a-8cda03cbc9d3",
   "metadata": {},
   "outputs": [],
   "source": [
    "from openai import OpenAI\n",
    "\n",
    "client = OpenAI(\n",
    "    base_url='http://localhost:11434/v1/',\n",
    "    api_key='ollama',\n",
    ")"
   ]
  },
  {
   "cell_type": "code",
   "execution_count": 39,
   "id": "228cc39b-dfea-4463-919a-7441572d9752",
   "metadata": {},
   "outputs": [],
   "source": [
    "prompt = \"What's the formula for energy?\""
   ]
  },
  {
   "cell_type": "code",
   "execution_count": 40,
   "id": "dbc9ff89-f5cc-4faf-b69d-2754b5e0fc81",
   "metadata": {},
   "outputs": [],
   "source": [
    "response = client.chat.completions.create(\n",
    "    model='gemma:2b',\n",
    "    messages=[{\"role\": \"user\", \"content\": prompt}],\n",
    "    temperature=0.0\n",
    "    )\n",
    "    \n",
    "result = response.choices[0].message.content"
   ]
  },
  {
   "cell_type": "code",
   "execution_count": 44,
   "id": "ede54891-c49b-4267-9baf-a619569a7944",
   "metadata": {},
   "outputs": [
    {
     "name": "stdout",
     "output_type": "stream",
     "text": [
      "Sure, here's the formula for energy:\n",
      "\n",
      "**E = K + U**\n",
      "\n",
      "Where:\n",
      "\n",
      "* **E** is the energy in joules (J)\n",
      "* **K** is the kinetic energy in joules (J)\n",
      "* **U** is the potential energy in joules (J)\n",
      "\n",
      "**Kinetic energy (K)** is the energy an object possesses when it moves or is in motion. It is calculated as half the product of an object's mass (m) and its velocity (v) squared:\n",
      "\n",
      "**K = 1/2 * m * v^2**\n",
      "\n",
      "**Potential energy (U)** is the energy an object possesses when it is in a position or has a specific configuration. It is calculated as the product of an object's mass and the gravitational constant (g) multiplied by the height or distance of the object from a reference point.\n",
      "\n",
      "**Gravitational potential energy (U)** is given by the formula:\n",
      "\n",
      "**U = mgh**\n",
      "\n",
      "Where:\n",
      "\n",
      "* **m** is the mass of the object in kilograms (kg)\n",
      "* **g** is the acceleration due to gravity in meters per second squared (m/s^2)\n",
      "* **h** is the height or distance of the object in meters (m)\n",
      "\n",
      "The formula for energy can be used to calculate the total energy of an object, the energy of a specific part of an object, or the change in energy of an object over time.\n"
     ]
    }
   ],
   "source": [
    "print(result)"
   ]
  },
  {
   "cell_type": "code",
   "execution_count": 42,
   "id": "37f56665-2acf-4819-88c1-3958726e7c7e",
   "metadata": {},
   "outputs": [
    {
     "data": {
      "text/plain": [
       "1122"
      ]
     },
     "execution_count": 42,
     "metadata": {},
     "output_type": "execute_result"
    }
   ],
   "source": [
    "len(result)"
   ]
  },
  {
   "cell_type": "code",
   "execution_count": 43,
   "id": "d783e727-457a-4e68-9f82-459212c884fc",
   "metadata": {},
   "outputs": [
    {
     "data": {
      "text/plain": [
       "1122"
      ]
     },
     "execution_count": 43,
     "metadata": {},
     "output_type": "execute_result"
    }
   ],
   "source": [
    "len(response.choices[0].message.content)"
   ]
  },
  {
   "cell_type": "code",
   "execution_count": null,
   "id": "81716d57-713e-4d11-86a4-5ca8bf3f667f",
   "metadata": {},
   "outputs": [],
   "source": []
  },
  {
   "cell_type": "code",
   "execution_count": null,
   "id": "956788c1-2ac1-47a9-a5e0-3055bf65d701",
   "metadata": {},
   "outputs": [],
   "source": []
  }
 ],
 "metadata": {
  "kernelspec": {
   "display_name": "Python 3 (ipykernel)",
   "language": "python",
   "name": "python3"
  },
  "language_info": {
   "codemirror_mode": {
    "name": "ipython",
    "version": 3
   },
   "file_extension": ".py",
   "mimetype": "text/x-python",
   "name": "python",
   "nbconvert_exporter": "python",
   "pygments_lexer": "ipython3",
   "version": "3.10.13"
  }
 },
 "nbformat": 4,
 "nbformat_minor": 5
}
